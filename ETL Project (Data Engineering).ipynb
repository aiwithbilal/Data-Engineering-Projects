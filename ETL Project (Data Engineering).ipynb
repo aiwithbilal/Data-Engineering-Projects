{
 "cells": [
  {
   "cell_type": "markdown",
   "id": "266bf2d8",
   "metadata": {},
   "source": [
    "#      CLOUD DATA ENGINEERING MODULE BY BILAL ZAFAR "
   ]
  },
  {
   "cell_type": "markdown",
   "id": "d8703cfe",
   "metadata": {},
   "source": [
    "Import necessary Libraries"
   ]
  },
  {
   "cell_type": "code",
   "execution_count": 2,
   "id": "7f579809",
   "metadata": {},
   "outputs": [],
   "source": [
    "import requests\n",
    "from io import StringIO\n",
    "import requests\n",
    "from bs4 import BeautifulSoup\n",
    "import pandas as pd\n",
    "import sqlite3\n",
    "from datetime import datetime\n",
    "from icecream import ic\n"
   ]
  },
  {
   "cell_type": "markdown",
   "id": "2c7cb560",
   "metadata": {},
   "source": [
    "Step 0: Maintaining a Log File\n"
   ]
  },
  {
   "cell_type": "markdown",
   "id": "8853283f",
   "metadata": {},
   "source": [
    "\n",
    "This step is done to record the logs while performing ETL and it is not neccessary in an ETL Pipeline"
   ]
  },
  {
   "cell_type": "code",
   "execution_count": 3,
   "id": "1c7093ba",
   "metadata": {},
   "outputs": [],
   "source": [
    "def log_file(message):\n",
    "    with open(\"logging_data_file.txt\", \"a\") as f:\n",
    "        f.write(f\"{datetime.now()}:{message}\\n\")\n",
    "        "
   ]
  },
  {
   "cell_type": "markdown",
   "id": "af0730cd",
   "metadata": {},
   "source": [
    "Step 1: Extract"
   ]
  },
  {
   "cell_type": "code",
   "execution_count": 5,
   "id": "474cdf63",
   "metadata": {},
   "outputs": [],
   "source": [
    "\n",
    "def extraction(url, table_attribute):\n",
    "    # Step 1: Fetch the HTML content from the URL\n",
    "    response = requests.get(url)\n",
    "    soup = BeautifulSoup(response.text, \"html.parser\")  # Corrected typo in \"html.parser\"\n",
    "\n",
    "    # Step 2: Find the table element using the specified attribute\n",
    "    table = soup.find(\"span\", string=table_attribute)\n",
    "\n",
    "    # Step 3: Read the HTML table into a DataFrame using pandas\n",
    "    if table:\n",
    "        df = pd.read_html(str(table))[0]\n",
    "        return df\n",
    "    else:\n",
    "        print(f\"No table found with attribute '{table_attribute}' on the page.\")\n",
    "        return None\n"
   ]
  },
  {
   "cell_type": "markdown",
   "id": "b6194329",
   "metadata": {},
   "source": [
    "\n",
    "Step 2 : TRANSFORMATION"
   ]
  },
  {
   "cell_type": "code",
   "execution_count": null,
   "id": "32130312",
   "metadata": {},
   "outputs": [],
   "source": [
    "def transform(df, csv_path):\n",
    "    \"\"\" This function accesses the CSV file for exchange rate\n",
    "    information, and adds three columns to the data frame, each\n",
    "    containing the transformed version of Market Cap column to\n",
    "    respective currencies\"\"\"\n",
    "\n",
    "    exchange_rate = pd.read_csv(csv_path, index_col=0).to_dict()[Rate]\n",
    "\n",
    "    df['MC_GBP_Billion'] = round(df['Market cap (US$ billion)'] * exchange_rate['GBP'], 2)\n",
    "    df['MC_EUR_Billion'] = round(df['Market cap (US$ billion)'] * exchange_rate['EUR'], 2)\n",
    "    df['MC_INR_Billion'] = round(df['Market cap (US$ billion)'] * exchange_rate['INR'], 2)\n",
    "\n",
    "    ic(df['MC_EUR_Billion'][4])\n",
    "\n",
    "    log_progress('Data transformation complete. Initiating Loading process')\n",
    "\n",
    "    return df\n"
   ]
  },
  {
   "cell_type": "markdown",
   "id": "073b1690",
   "metadata": {},
   "source": [
    "Step 3 : LOADING BY CSV"
   ]
  },
  {
   "cell_type": "code",
   "execution_count": 1,
   "id": "176d2a80",
   "metadata": {},
   "outputs": [],
   "source": [
    "def load_to_csv(df, output_path):\n",
    "    \"\"\" This function saves the final data frame as a CSV file in\n",
    "    the provided path. Function returns nothing.\"\"\"\n",
    "\n",
    "    df.to_csv(output_path)\n",
    "\n",
    "    log_progress('Data saved to CSV file')"
   ]
  },
  {
   "cell_type": "markdown",
   "id": "546b22d3",
   "metadata": {},
   "source": [
    "Loading data to SQL\n",
    "\n",
    "\n"
   ]
  },
  {
   "cell_type": "code",
   "execution_count": 2,
   "id": "0157122f",
   "metadata": {},
   "outputs": [],
   "source": [
    "def load_to_db(df, sql_connection, table_name):\n",
    "    \"\"\" This function saves the final data frame to a database\n",
    "    table with the provided name. Function returns nothing.\"\"\"\n",
    "\n",
    "    df.to_sql(table_name, sql_connection, if_exists='replace', index=False)\n",
    "\n",
    "    log_progress('Data loaded to Database as a table, Executing queries')\n",
    "\n",
    "\n",
    "def run_query(query_statement, sql_connection):\n",
    "    \"\"\" This function runs the query on the database table and\n",
    "    prints the output on the terminal. Function returns nothing. \"\"\"\n",
    "\n",
    "    cursor = sql_connection.cursor()\n",
    "    cursor.execute(query_statement)\n",
    "    result = cursor.fetchall()\n",
    "\n",
    "    log_progress('Process Complete')\n",
    "\n",
    "    return result"
   ]
  },
  {
   "cell_type": "markdown",
   "id": "20099814",
   "metadata": {},
   "source": [
    "Executing Pipeline"
   ]
  },
  {
   "cell_type": "code",
   "execution_count": 4,
   "id": "d4a30c64",
   "metadata": {},
   "outputs": [
    {
     "ename": "NameError",
     "evalue": "name 'log_progress' is not defined",
     "output_type": "error",
     "traceback": [
      "\u001b[1;31m---------------------------------------------------------------------------\u001b[0m",
      "\u001b[1;31mNameError\u001b[0m                                 Traceback (most recent call last)",
      "Cell \u001b[1;32mIn[4], line 7\u001b[0m\n\u001b[0;32m      5\u001b[0m table_name \u001b[38;5;241m=\u001b[39m \u001b[38;5;124m'\u001b[39m\u001b[38;5;124mLargest_banks\u001b[39m\u001b[38;5;124m'\u001b[39m\n\u001b[0;32m      6\u001b[0m \u001b[38;5;66;03m#\u001b[39;00m\n\u001b[1;32m----> 7\u001b[0m log_progress(\u001b[38;5;124m'\u001b[39m\u001b[38;5;124mPreliminaries complete. Initiating ETL process\u001b[39m\u001b[38;5;124m'\u001b[39m)\n\u001b[0;32m      8\u001b[0m \u001b[38;5;66;03m#\u001b[39;00m\n\u001b[0;32m     10\u001b[0m df \u001b[38;5;241m=\u001b[39m ic(extract(url, \u001b[38;5;124m'\u001b[39m\u001b[38;5;124mBy market capitalization\u001b[39m\u001b[38;5;124m'\u001b[39m))\n",
      "\u001b[1;31mNameError\u001b[0m: name 'log_progress' is not defined"
     ]
    }
   ],
   "source": [
    "if __name__ == '__main__':\n",
    "    url = 'https://web.archive.org/web/20230908091635/https://en.wikipedia.org/wiki/List_of_largest_banks'\n",
    "    output_csv_path = './Largest_banks_data.csv'\n",
    "    database_name = 'Banks.db'\n",
    "    table_name = 'Largest_banks'\n",
    "    #\n",
    "    log_progress('Preliminaries complete. Initiating ETL process')\n",
    "    #\n",
    "\n",
    "    df = ic(extract(url, 'By market capitalization'))\n",
    "\n",
    "    transform(df, './data/exchange_rate.csv')\n",
    "\n",
    "    load_to_csv(df, output_csv_path)\n",
    "\n",
    "    with sqlite3.connect(database_name) as conn:\n",
    "        load_to_db(df, conn, table_name)\n",
    "\n",
    "        ic(run_query('SELECT * FROM Largest_banks', conn))\n",
    "\n",
    "        ic(run_query('SELECT AVG(MC_GBP_Billion) FROM Largest_banks', conn))\n",
    "\n",
    "        ic(run_query('SELECT \"Bank name\" FROM Largest_banks LIMIT 5', conn))"
   ]
  },
  {
   "cell_type": "code",
   "execution_count": null,
   "id": "3e06aeff",
   "metadata": {},
   "outputs": [],
   "source": []
  }
 ],
 "metadata": {
  "kernelspec": {
   "display_name": "Python 3 (ipykernel)",
   "language": "python",
   "name": "python3"
  },
  "language_info": {
   "codemirror_mode": {
    "name": "ipython",
    "version": 3
   },
   "file_extension": ".py",
   "mimetype": "text/x-python",
   "name": "python",
   "nbconvert_exporter": "python",
   "pygments_lexer": "ipython3",
   "version": "3.11.5"
  }
 },
 "nbformat": 4,
 "nbformat_minor": 5
}
